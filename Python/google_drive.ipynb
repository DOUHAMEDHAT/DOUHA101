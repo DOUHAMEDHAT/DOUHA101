{
 "cells": [
  {
   "cell_type": "markdown",
   "metadata": {},
   "source": [
    "# <font color='blue'> The script objective:</font>\n",
    "#### Basically it get all your files in your drive in one place, the script access your google drive account, then start to collect all files in your drive and build dataframe with all your files and finally cleans the data, "
   ]
  },
  {
   "cell_type": "code",
   "execution_count": null,
   "metadata": {},
   "outputs": [],
   "source": [
    "# Importing the needed packages:\n",
    "import numpy as np\n",
    "import pandas as pd\n",
    "import requests\n",
    "import os\n",
    "import pydrive\n",
    "from pydrive.auth import GoogleAuth\n",
    "from pydrive.drive import GoogleDrive\n",
    "\n",
    "# Accessing the GoogleDrive API:\n",
    "gauth = GoogleAuth()\n",
    "\n",
    "# client_secrets.json need to be in the same directory as the script\n",
    "gauth.LocalWebserverAuth()\n",
    "drive = GoogleDrive(gauth)"
   ]
  },
  {
   "cell_type": "code",
   "execution_count": 2,
   "metadata": {},
   "outputs": [],
   "source": [
    "# Creating the datafrmae of the mime_types table:\n",
    "mime_types = pd.DataFrame()\n",
    "files = {}\n",
    "# Looping over the files on the web to collect it all:\n",
    "for i in ['application', 'audio', 'font', 'image', 'message' ,'model' ,'multipart' ,'text' ,'video']:\n",
    "    p = 'https://www.iana.org/assignments/media-types/'\n",
    "    # Mapping the mime_type type to their link to download it:\n",
    "    files[i] = str(p + i + '.csv')\n",
    "    for k,v in files.items():\n",
    "        # Loading, wrangling, appending the frames togther in one dataframe:\n",
    "        try:\n",
    "            globals()[k] = pd.DataFrame(pd.read_csv(v))\n",
    "            globals()[k]['type'] = i\n",
    "            mime_types = mime_types.append(globals()[k])\n",
    "            # deleting the dataframes as we have one dataframe for all.\n",
    "            del globals()[k]\n",
    "        except:\n",
    "            print('({}) file does not exsist on the web check the source: {}'.format(i,str(p + i)))\n",
    "            pass"
   ]
  },
  {
   "cell_type": "code",
   "execution_count": 84,
   "metadata": {},
   "outputs": [],
   "source": [
    "# Create the recurrsive function to expand and combine the folers-tree:\n",
    "def folders(parent):\n",
    "    files = drive.ListFile({'q': \"'%s' in parents and trashed=false\" % parent}).GetList()\n",
    "    for file in files:\n",
    "        if file['mimeType'] != 'application/vnd.google-apps.folder':\n",
    "            # Defining my_drive to be global value to be used here:\n",
    "            global my_drive\n",
    "            # Assining the folder_id to map it later with folder details:\n",
    "            file['folder_id'] = parent\n",
    "            my_drive = my_drive.append(file, ignore_index=True)\n",
    "        else:\n",
    "            # If folder then re-call the function again to open the sub-tree:\n",
    "            folders(file['id'])\n",
    "            pass\n",
    "\n",
    "# Create the dataframe which will contain the whole files of your drive:\n",
    "my_drive = pd.DataFrame()\n",
    "# Firstly will launch the root drive to start the tree-structure of the drive: \n",
    "for root_file in drive.ListFile({'q': \"'root' in parents and trashed=false\"}).GetList():\n",
    "    # If the objects are files then will add it to the dataframe:\n",
    "    if root_file['mimeType'] != 'application/vnd.google-apps.folder':\n",
    "        my_drive = my_drive.append(root_file, ignore_index=True)\n",
    "        my_drive['folder_id'] = root_file['id']\n",
    "        # If the objects are folders then call the folders tree function:\n",
    "    else:\n",
    "        folders(root_file['id'])"
   ]
  },
  {
   "cell_type": "code",
   "execution_count": 48,
   "metadata": {},
   "outputs": [],
   "source": [
    "# Joining the mimetypes dataframe to my_drive then re-joining with google-api mime-types:\n",
    "my_drive = pd.merge(\n",
    "    left = pd.merge(\n",
    "        left = my_drive, right = mime_types, how = 'left', \n",
    "        left_on='mimeType', right_on='Template'\n",
    "        ).drop(['Reference','Template'], axis=1).fillna('')\n",
    "    ,right = pd.DataFrame(pd.read_html(\n",
    "        requests.get('https://developers.google.com/drive/api/v3/mime-types').content)[-1]).fillna(''),\n",
    "    how='left', left_on='mimeType', right_on='MIME Type'\n",
    ").drop(['MIME Type'], axis=1).fillna('')"
   ]
  },
  {
   "cell_type": "code",
   "execution_count": null,
   "metadata": {},
   "outputs": [],
   "source": [
    "# Wrangling the Name & Type column and remove the Description column:\n",
    "my_drive['Name'] = np.where(my_drive['Name'] == '', my_drive['Description'], \n",
    "                            np.where(my_drive['Name'] == '', 'image/jpeg', my_drive['Name']))\n",
    "my_drive['type'] = np.where(my_drive['type'] == '', 'drive', my_drive['type'])\n",
    "my_drive = my_drive.drop(['Description'], axis=1)"
   ]
  },
  {
   "cell_type": "code",
   "execution_count": null,
   "metadata": {},
   "outputs": [],
   "source": []
  }
 ],
 "metadata": {
  "kernelspec": {
   "display_name": "Python 3",
   "language": "python",
   "name": "python3"
  },
  "language_info": {
   "codemirror_mode": {
    "name": "ipython",
    "version": 3
   },
   "file_extension": ".py",
   "mimetype": "text/x-python",
   "name": "python",
   "nbconvert_exporter": "python",
   "pygments_lexer": "ipython3",
   "version": "3.7.3"
  }
 },
 "nbformat": 4,
 "nbformat_minor": 2
}
